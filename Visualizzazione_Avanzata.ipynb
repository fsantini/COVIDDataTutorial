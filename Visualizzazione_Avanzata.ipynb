{
 "cells": [
  {
   "cell_type": "markdown",
   "metadata": {},
   "source": [
    "# Visualizzazione avanzata\n",
    "\n",
    "## Cosa impareremo\n",
    "\n",
    "* Visualizzazione dei dati in scala logaritmica\n",
    "* Calcolo degli attivi\n",
    "* Visualizzazioni alternative (diagrammi a barre)\n",
    "* Estrazione dei dati incrementali\n",
    "    * Estrazione semplice\n",
    "    * Filtraggio dei dati\n",
    "* Rappresentazioni alternative (incremento in funzione del numero dei casi)"
   ]
  },
  {
   "cell_type": "markdown",
   "metadata": {},
   "source": [
    "## Caricamento dei dati e definizione di funzioni (dal modulo precedente)"
   ]
  },
  {
   "cell_type": "code",
   "execution_count": null,
   "metadata": {},
   "outputs": [],
   "source": [
    "import pandas as pd\n",
    "import numpy as np\n",
    "import matplotlib.pyplot as plt\n",
    "import datetime\n",
    "import scipy.special\n",
    "\n",
    "# Dati mondo\n",
    "\n",
    "mondo_URL_base = 'https://raw.githubusercontent.com/CSSEGISandData/COVID-19/master/csse_covid_19_data/csse_covid_19_time_series/'\n",
    "file_confermati = 'time_series_covid19_confirmed_global.csv'\n",
    "file_morti = 'time_series_covid19_deaths_global.csv'\n",
    "file_guariti = 'time_series_covid19_recovered_global.csv'\n",
    "\n",
    "print('Lettura dati mondiali...')\n",
    "confermati_mondo = pd.read_csv(mondo_URL_base + file_confermati, index_col = 'Country/Region').sort_index().drop(columns = ['Province/State', 'Lat', 'Long'])\n",
    "morti_mondo = pd.read_csv(mondo_URL_base + file_morti, index_col = 'Country/Region').sort_index().drop(columns = ['Province/State', 'Lat', 'Long'])\n",
    "guariti_mondo = pd.read_csv(mondo_URL_base + file_guariti, index_col = 'Country/Region').sort_index().drop(columns = ['Province/State', 'Lat', 'Long'])\n",
    "print('Fatto')\n",
    "\n",
    "def dati_paese_singolo(dati, paese):\n",
    "    dati_uscita = dati.loc[paese]\n",
    "    if len(dati_uscita.shape) == 2:\n",
    "        dati_uscita = dati_uscita.sum()\n",
    "    return dati_uscita\n",
    "\n",
    "def dati_paese(paese):\n",
    "    return dati_paese_singolo(confermati_mondo, paese), dati_paese_singolo(guariti_mondo, paese), dati_paese_singolo(morti_mondo, paese)\n",
    "\n",
    "# Dati italiani\n",
    "\n",
    "italia_URL_base = 'https://raw.githubusercontent.com/pcm-dpc/COVID-19/master/dati-regioni/'\n",
    "formato_file_gioraliero = 'dpc-covid19-ita-regioni-%Y%m%d.csv'\n",
    "\n",
    "data_inizio = datetime.date(2020,2,24) # inizio il 24 febbraio 2020\n",
    "\n",
    "lista_dati = []\n",
    "\n",
    "print('Letture dati italiani...')\n",
    "data_corrente = data_inizio\n",
    "while data_corrente < datetime.date.today():\n",
    "    file = data_corrente.strftime(formato_file_gioraliero)\n",
    "    print(f'Lettura di {file}')\n",
    "    lista_dati.append(pd.read_csv(italia_URL_base + file, index_col=['denominazione_regione', 'data']).sort_index())\n",
    "    data_corrente += datetime.timedelta(days=1) # aggiunge un giorno alla data considerata\n",
    "    \n",
    "dati_italia_per_regione = pd.concat(lista_dati) # Aggrega i dati\n",
    "print('Fatto')\n",
    "\n",
    "def dati_regione(regione):\n",
    "    confermati = dati_italia_per_regione.loc[regione]['totale_casi'] # seleziona le righe \"Regione\" e la colonna \"totale_casi\"\n",
    "    guariti = dati_italia_per_regione.loc[regione]['dimessi_guariti']\n",
    "    morti = dati_italia_per_regione.loc[regione]['deceduti']\n",
    "    return confermati, guariti, morti"
   ]
  },
  {
   "cell_type": "markdown",
   "metadata": {},
   "source": [
    "## La scala logaritmica\n",
    "\n",
    "L'epidemia non controllata segue un andamento di espansione di tipo esponenziale, cioè se il primo paziente (paziente zero) infetta due persone, a loro volta queste due ne infetteranno due a testa, e quindi quattro, dopodiché otto, sedici, eccetera... Questo andamento esponenziale è rappresentato da questa curva caratteristica:"
   ]
  },
  {
   "cell_type": "code",
   "execution_count": null,
   "metadata": {},
   "outputs": [],
   "source": [
    "plt.plot(np.exp(np.linspace(0,10)))"
   ]
  },
  {
   "cell_type": "markdown",
   "metadata": {},
   "source": [
    "Man mano che le misure di contenimento iniziano a funzionare, o, in mancanza di queste, il virus inizia a colpire una porzione significativa della popolazione (ma stiamo parlando già di milioni di individui!), l'andamento esponenziale inizia a rallentare, e l'epidemia tenderà ad assumere la forma di una funzione a \"S\" detta logistica. La prima parte di questa curva può essere approssimata con un'esponenziale, la seconda parte con una funzione lineare, ed infine vi è una parte di \"saturazione\" di tipo ancora esponenziale decrescente."
   ]
  },
  {
   "cell_type": "code",
   "execution_count": null,
   "metadata": {},
   "outputs": [],
   "source": [
    "plt.plot(scipy.special.expit(np.linspace(-10,10)))"
   ]
  },
  {
   "cell_type": "markdown",
   "metadata": {},
   "source": [
    "Si dice che le misure di contenimento iniziano a funzionare quando l'accrescimento della curva inizia a deviare dall'esponenziale. A occhio, questo è difficile a dirsi, però l'esponenziale ha una caratteristica: in una scala logaritmica, essa è rappresentata da una retta. La scala logaritmica è una scala in cui gli indici non crescono in maniera lineare, ma in cui la distanza tra 1 e 10 è uguale alla distanza tra 10 e 100, 100 e 1000 e così via. In pratica, i numeri grandi sono compressi e i numeri piccoli sono dilatati. In Python, la scala logaritmica si imposta molto semplicemente con ```yscale```"
   ]
  },
  {
   "cell_type": "code",
   "execution_count": null,
   "metadata": {},
   "outputs": [],
   "source": [
    "plt.plot(np.exp(np.linspace(0,10)))\n",
    "plt.yscale('log')\n",
    "plt.title('Esponenziale in scala logaritmica')\n",
    "plt.figure()\n",
    "plt.plot(scipy.special.expit(np.linspace(-10,10)))\n",
    "plt.yscale('log')\n",
    "plt.title('Logistica in scala logaritmica')"
   ]
  },
  {
   "cell_type": "markdown",
   "metadata": {},
   "source": [
    "Vediamo adesso come la scala logaritmica aiuta nella visualizzazione dei dati reali."
   ]
  },
  {
   "cell_type": "code",
   "execution_count": null,
   "metadata": {},
   "outputs": [],
   "source": [
    "confermati_italia, guariti_italia, morti_italia = dati_paese('Italy')\n",
    "confermati_uk, guariti_uk, morti_uk = dati_paese('United Kingdom')\n",
    "confermati_cina, guariti_cina, morti_cina = dati_paese('China')\n",
    "\n",
    "plt.plot(confermati_italia, label='Italia')\n",
    "plt.plot(confermati_uk, label='UK')\n",
    "plt.title('Casi confermati, scala lineare')\n",
    "plt.legend()\n",
    "plt.figure()\n",
    "plt.plot(confermati_italia, label='Italia')\n",
    "plt.plot(confermati_uk, label='UK')\n",
    "plt.title('Casi confermati, scala logaritmica')\n",
    "plt.yscale('log')\n",
    "plt.legend()"
   ]
  },
  {
   "cell_type": "markdown",
   "metadata": {},
   "source": [
    "In questo grafico si vede come l'Italia sia rimasta nella fase puramente esponenziale relativamente poco, mentre il Regno Unito ha ritardato molto nell'implementazione delle misure di contenimento, nonostante abbia avuto una crescita iniziale più lenta e i numeri assoluti siano molto diversi.\n",
    "\n",
    "Vediamo adesso come alcune regioni italiane appaiono in scala lineare e logaritmica."
   ]
  },
  {
   "cell_type": "code",
   "execution_count": null,
   "metadata": {},
   "outputs": [],
   "source": [
    "plt.plot(dati_regione('Lombardia')[0], label='Lombardia')\n",
    "plt.plot(dati_regione('Toscana')[0], label='Toscana')\n",
    "plt.plot(dati_regione('Puglia')[0], label='Puglia')\n",
    "plt.title('Scala lineare')\n",
    "plt.legend()\n",
    "\n",
    "plt.figure()\n",
    "plt.plot(dati_regione('Lombardia')[0], label='Lombardia')\n",
    "plt.plot(dati_regione('Toscana')[0], label='Toscana')\n",
    "plt.plot(dati_regione('Puglia')[0], label='Puglia')\n",
    "plt.title('Scala logaritmica')\n",
    "plt.yscale('log')\n",
    "plt.legend()"
   ]
  },
  {
   "cell_type": "markdown",
   "metadata": {},
   "source": [
    "## Calcolo dei pazienti attivi\n",
    "\n",
    "Considerare i casi confermati è utile perché sappiamo abbastanza bene come modellare questo tipo di crescita; però ha il difetto di essere una curva che non decresce mai, e quindi non ha mai un \"picco\".\n",
    "\n",
    "Può essere quindi utile osservare anche i pazienti attivi, cioè il numero dei pazienti infetti in un qualsiasi momento. A un certo punto, le guarigioni (e, sfortunatemente, i decessi) supereranno in numero i nuovi contagi, e quindi questo numero di pazienti attivi inizierà a diminuire.\n",
    "\n",
    "I pazienti attivi sono semplicemente i pazienti confermati meno i guariti ed i deceduti."
   ]
  },
  {
   "cell_type": "code",
   "execution_count": null,
   "metadata": {},
   "outputs": [],
   "source": [
    "attivi_italia = confermati_italia - guariti_italia - morti_italia\n",
    "attivi_cina = confermati_cina - guariti_cina - morti_cina\n",
    "\n",
    "plt.plot(attivi_cina, label='Cina')\n",
    "plt.plot(attivi_italia, label='Italia')\n",
    "plt.legend()\n",
    "plt.title('Attivi, scala lineare')\n",
    "\n",
    "plt.figure()\n",
    "plt.plot(attivi_cina, label='Cina')\n",
    "plt.plot(attivi_italia, label='Italia')\n",
    "plt.legend()\n",
    "plt.yscale('log')\n",
    "plt.title('Attivi, scala logaritmica')"
   ]
  },
  {
   "cell_type": "markdown",
   "metadata": {},
   "source": [
    "Personalmente, preferisco la rappresentazione lineare per questo tipo di variabile, perché la rappresentazione logaritmica tende ad allargare il picco (visto che \"schiaccia\" i valori alti), ma è principalmente questione di gusti."
   ]
  },
  {
   "cell_type": "markdown",
   "metadata": {},
   "source": [
    "## Rappresentazioni integrate\n",
    "\n",
    "A volte può essere utile rappresentare più valori sullo stesso grafico, ed un caso classico è quello di rappresentare i valori di attivi, guariti e deceduti cumulati tra di loro. Per questo possiamo usare la funzione ```bar```. Siccome questa visualizzazione è pensata per istogrammi, dobbiamo anche esplicitare l'asse delle ascisse (x)."
   ]
  },
  {
   "cell_type": "code",
   "execution_count": null,
   "metadata": {},
   "outputs": [],
   "source": [
    "x = np.arange(len(attivi_italia))\n",
    "plt.bar(x, attivi_italia, label='attivi')\n",
    "plt.bar(x, morti_italia, bottom=attivi_italia, label='deceduti')\n",
    "plt.bar(x, guariti_italia, bottom=(attivi_italia+morti_italia), label='guariti')\n",
    "plt.legend()\n",
    "plt.xlim(35, None) # Zoom sul grafico"
   ]
  },
  {
   "cell_type": "markdown",
   "metadata": {},
   "source": [
    "Possiamo incapsulare i comandi precedenti in una funzione:"
   ]
  },
  {
   "cell_type": "code",
   "execution_count": null,
   "metadata": {},
   "outputs": [],
   "source": [
    "def grafico_integrato(confermati, guariti, morti):\n",
    "    attivi = confermati-guariti-morti\n",
    "    x = np.arange(len(attivi))\n",
    "    plt.bar(x, attivi, width=1.0, label='attivi')\n",
    "    plt.bar(x, morti, width=1.0, bottom=attivi, label='deceduti')\n",
    "    plt.bar(x, guariti, width=1.0, bottom=(attivi+morti), label='guariti')\n",
    "    plt.legend()\n"
   ]
  },
  {
   "cell_type": "markdown",
   "metadata": {},
   "source": [
    "Possiamo adesso chiamare la funzione ```grafico_integrato``` direttamente con i dati di uscita di ```dati_paese``` o ```dati_regione```. Notare l'uso dell'asterisco di fronte alla chiamata di funzione. Questa è una funzione Python che permette di usare i tre dati di ritorno di dati_paese come tre valori di ingresso della funzione."
   ]
  },
  {
   "cell_type": "code",
   "execution_count": null,
   "metadata": {},
   "outputs": [],
   "source": [
    "grafico_integrato(*dati_paese('China'))"
   ]
  },
  {
   "cell_type": "code",
   "execution_count": null,
   "metadata": {},
   "outputs": [],
   "source": [
    "grafico_integrato(*dati_regione('Puglia'))"
   ]
  },
  {
   "cell_type": "markdown",
   "metadata": {},
   "source": [
    "## Dati incrementali\n",
    "\n",
    "Se la visualizzazione dei dati cumulativi dà un'idea importante dell'andamento dell'epidemia, un indicatore molto importante sono i dati incrementali: quanti più pazienti ci sono rispetto al giorno precedente. Quando questo indicatore raggiunge lo zero, vuol dire che l'epidemia è finita e non ci sono più nuovi casi. I dati sui nuovi confermati sono disponibili in alcune basi dati, ma comunque si possono ottenere facilmente tramite una semplice sottrazione. Purtroppo però prima è necessaria una conversione dei dati. Fino ad adesso abbiamo trattato serie di dati che contenevano l'indicazione della data al loro interno, e se sottraessimo questi dati, il sistema appaierebbe automaticamente le date e non ci farebbe ottenere il risultato desiderato."
   ]
  },
  {
   "cell_type": "code",
   "execution_count": null,
   "metadata": {},
   "outputs": [],
   "source": [
    "incremento_confermati_italia = np.array(confermati_italia[1:]) - np.array(confermati_italia[:-1])\n",
    "plt.plot(incremento_confermati_italia)"
   ]
  },
  {
   "cell_type": "markdown",
   "metadata": {},
   "source": [
    "Anche questa curva ha uno o più picchi, e oltrepassato questo picco i contagiati continuano ad aumentare, ma più lentamente. È normale che questa curva abbia un primo andamento crescente nella fase esponenziale, per poi stabilizzarsi nella fase lineare della crescita dei contagiati. Tuttavia questa curva non diventerà mai negativa perché i casi confermati non possono mai diminuire.\n",
    "Un altro aspetto di questa curva è che presenta molti picchi locali ed è in generale piuttosto irregolare. Questo è dovuto al fatto che i casi vengono riportati in maniera irregolare e/o con ritardi. Per avere una curva più regolare, è utile eseguire un **filtraggio** di questi dati. Il modo più semplice di ottenerlo è prendere la differenza tra più giorni invece che tra un giorno e il precedente. Le oscillazioni presenti tra un giorno e l'altro verranno così soppresse. Questo ad esempio è il caso della curva con un periodo di 5 giorni."
   ]
  },
  {
   "cell_type": "code",
   "execution_count": null,
   "metadata": {},
   "outputs": [],
   "source": [
    "giorni_incremento = 5\n",
    "incremento_confermati_italia = (np.array(confermati_italia[giorni_incremento:]) - np.array(confermati_italia[:-giorni_incremento]))/giorni_incremento\n",
    "plt.plot(incremento_confermati_italia)"
   ]
  },
  {
   "cell_type": "markdown",
   "metadata": {},
   "source": [
    "Ovviamente la curva così filtrata è meno reattiva ai cambiamenti improvvisi, ma è anche più facile da interpretare in quanto riflette più i cambiamenti reali e meno quelli dovuti a errori dei dati. Definiamo una funzione per semplificare il calcolo di questa curva:"
   ]
  },
  {
   "cell_type": "code",
   "execution_count": null,
   "metadata": {},
   "outputs": [],
   "source": [
    "def calcola_incremento(dati):\n",
    "    giorni_incremento = 5\n",
    "    return (np.array(dati[giorni_incremento:]) - np.array(dati[:-giorni_incremento]))/giorni_incremento"
   ]
  },
  {
   "cell_type": "markdown",
   "metadata": {},
   "source": [
    "Si può anche rappresentare la variazione giornaliera dei casi attivi. In questo caso, le guarigioni (e i decessi) influenzeranno l'andamento. Questa curva può raggiungere lo zero, che sarà il punto in cui gli attivi inizieranno effettivamente a diminuire."
   ]
  },
  {
   "cell_type": "code",
   "execution_count": null,
   "metadata": {},
   "outputs": [],
   "source": [
    "incremento_attivi_italia = calcola_incremento(attivi_italia)\n",
    "incremento_attivi_cina = calcola_incremento(attivi_cina)\n",
    "\n",
    "incremento_italia = calcola_incremento(confermati_italia)\n",
    "incremento_cina = calcola_incremento(confermati_cina)\n",
    "\n",
    "plt.plot(incremento_italia, label='Italia')\n",
    "plt.plot(incremento_cina, label='Cina')\n",
    "plt.legend()\n",
    "plt.title('Incrementi giornalieri dei confermati')\n",
    "\n",
    "plt.figure()\n",
    "plt.plot(incremento_attivi_italia, label='Italia')\n",
    "plt.plot(incremento_attivi_cina, label='Cina')\n",
    "plt.legend()\n",
    "plt.title('Incrementi giornalieri degli attivi')"
   ]
  },
  {
   "cell_type": "markdown",
   "metadata": {},
   "source": [
    "## Rappresentazioni dei dati alternative\n",
    "\n",
    "Una rappresentazione molto interessante è quella proposta su: https://aatishb.com/covidtrends/ .\n",
    "Questa rappresentazione ha sulle ascisse il numero totale di contagi e sulle ordinate il numero di nuovi contagi giornalieri, il tutto rappresentato in scala logaritmica. Questa rappresentazione funziona perché nella fase esponenziale, sia il numero di contagi totali che i nuovi contagi giornalieri sono esponenziali, di conseguenza i punti in cui la crescita è esponenziale si troveranno su una retta. Nel momento in cui le misure di contenimento iniziano a funzionare, i punti iniziano a deviare da questa retta. Questo si può ottenere semplicemente con i dati a nostra disposizione."
   ]
  },
  {
   "cell_type": "code",
   "execution_count": null,
   "metadata": {},
   "outputs": [],
   "source": [
    "# Il numero di punti degli incrementi è inferiore al numero dei punti originali, perché gli estremi non possono venire considerati\n",
    "plt.plot(confermati_italia[-len(incremento_italia):], incremento_italia, label='Italia')\n",
    "plt.plot(confermati_cina[-len(incremento_cina):], incremento_cina, label='Cina')\n",
    "plt.xscale('log')\n",
    "plt.yscale('log')\n",
    "plt.xlim(100,None)\n",
    "plt.legend()"
   ]
  },
  {
   "cell_type": "markdown",
   "metadata": {},
   "source": [
    "Come al solito, definiamo una funzione per la rappresentazione di cui sopra."
   ]
  },
  {
   "cell_type": "code",
   "execution_count": null,
   "metadata": {},
   "outputs": [],
   "source": [
    "def plot_trend(dati, etichetta):\n",
    "    incremento_dati = calcola_incremento(dati)\n",
    "    plt.plot(dati[-len(incremento_dati):], incremento_dati, label=etichetta)"
   ]
  },
  {
   "cell_type": "markdown",
   "metadata": {},
   "source": [
    "Disegnamo questa curva per alcune regioni italiane."
   ]
  },
  {
   "cell_type": "code",
   "execution_count": null,
   "metadata": {},
   "outputs": [],
   "source": [
    "regione = 'Puglia'\n",
    "plot_trend(dati_regione(regione)[0], regione)\n",
    "regione = 'Toscana'\n",
    "plot_trend(dati_regione(regione)[0], regione)\n",
    "regione = 'Lombardia'\n",
    "plot_trend(dati_regione(regione)[0], regione)\n",
    "plt.xscale('log')\n",
    "plt.yscale('log')\n",
    "plt.legend()"
   ]
  },
  {
   "cell_type": "markdown",
   "metadata": {},
   "source": [
    "# Cosa abbiamo imparato\n",
    "\n",
    "* Visualizzazione dei dati in scala logaritmica\n",
    "* Calcolo dei pazienti attivi e artimetica tra dati\n",
    "* Visualizzazione tramite diagrammi a barre e diagrammi a barre cumulativi\n",
    "* Estrazione dei dati incrementali\n",
    "    * Estrazione semplice\n",
    "    * Filtraggio dei dati\n",
    "* Rappresentazione degli incrementi in funzione del numero di contagiati "
   ]
  }
 ],
 "metadata": {
  "kernelspec": {
   "display_name": "Python 3",
   "language": "python",
   "name": "python3"
  },
  "language_info": {
   "codemirror_mode": {
    "name": "ipython",
    "version": 3
   },
   "file_extension": ".py",
   "mimetype": "text/x-python",
   "name": "python",
   "nbconvert_exporter": "python",
   "pygments_lexer": "ipython3",
   "version": "3.8.2"
  }
 },
 "nbformat": 4,
 "nbformat_minor": 4
}
