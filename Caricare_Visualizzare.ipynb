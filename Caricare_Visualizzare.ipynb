{
 "cells": [
  {
   "cell_type": "markdown",
   "metadata": {},
   "source": [
    "# Caricamento dei dati\n",
    "\n",
    "## Cosa impareremo\n",
    "\n",
    "* I file CSV\n",
    "* Caricare un file CSV direttamente da Internet\n",
    "    * Dati internazionali dal repository Johns Hopkins CSSE\n",
    "    * Dati italiani dal repository della Protezione Civile\n",
    "* Visualizzare e manipolare le tabelle di dati\n",
    "* Produrre semplici grafici dei dati\n",
    "\n",
    "## Dati internazionali\n",
    "\n",
    "Caricamento dei dati COVID internazionali.\n",
    "I dati si trovano su github nel repository: https://github.com/CSSEGISandData/COVID-19\n",
    "\n",
    "### Definizioni dei file"
   ]
  },
  {
   "cell_type": "code",
   "execution_count": null,
   "metadata": {},
   "outputs": [],
   "source": [
    "import pandas as pd\n",
    "import numpy as np\n",
    "import matplotlib.pyplot as plt\n",
    "\n",
    "mondo_URL_base = 'https://raw.githubusercontent.com/CSSEGISandData/COVID-19/master/csse_covid_19_data/csse_covid_19_time_series/'\n",
    "file_confermati = 'time_series_covid19_confirmed_global.csv'\n",
    "file_morti = 'time_series_covid19_deaths_global.csv'\n",
    "file_guariti = 'time_series_covid19_recovered_global.csv'"
   ]
  },
  {
   "cell_type": "markdown",
   "metadata": {},
   "source": [
    "Questi file sono di tipo \"CSV\", che significa \"Comma-Separated-Values\", cioè valori separati da una virgola. È il modo più semplice ed universale per rappresentare dati tabulari come quelli che ci interessano, anche se non il pi compatto. Però ha il vantaggio di essere facilmente interpretabile dagli umani e non solo dalle macchine."
   ]
  },
  {
   "cell_type": "markdown",
   "metadata": {},
   "source": [
    "### Caricamento dati\n",
    "\n",
    "Carichiamo ora i dati internazionali dei confermati."
   ]
  },
  {
   "cell_type": "code",
   "execution_count": null,
   "metadata": {},
   "outputs": [],
   "source": [
    "confermati_mondo = pd.read_csv(mondo_URL_base + file_confermati, index_col = 'Country/Region').sort_index()"
   ]
  },
  {
   "cell_type": "code",
   "execution_count": null,
   "metadata": {},
   "outputs": [],
   "source": [
    "# Visualizzazione di un dataframe - utilizza il motore interno di rappresentazione\n",
    "confermati_mondo"
   ]
  },
  {
   "cell_type": "markdown",
   "metadata": {},
   "source": [
    "### Trattamento dei dati\n",
    "\n",
    "Elaboriamo i dati in modo da ottenere solo le informazioni che ci interessano. In questo caso, rimuoviamo le colonne che non servono"
   ]
  },
  {
   "cell_type": "code",
   "execution_count": null,
   "metadata": {},
   "outputs": [],
   "source": [
    "confermati_mondo.drop(columns = ['Province/State', 'Lat', 'Long'], inplace=True)"
   ]
  },
  {
   "cell_type": "code",
   "execution_count": null,
   "metadata": {},
   "outputs": [],
   "source": [
    "confermati_mondo"
   ]
  },
  {
   "cell_type": "markdown",
   "metadata": {},
   "source": [
    "### Estrazione dei dati per paese\n",
    "\n",
    "Estraiamo adesso i dati del paese che ci interessa. La funzione ```loc``` permette di selezionare la riga (o le righe) del dataset che hanno un particolare indice."
   ]
  },
  {
   "cell_type": "code",
   "execution_count": null,
   "metadata": {},
   "outputs": [],
   "source": [
    "paese = 'Italy'\n",
    "confermati_paese = confermati_mondo.loc[paese]\n",
    "confermati_paese"
   ]
  },
  {
   "cell_type": "markdown",
   "metadata": {},
   "source": [
    "Alcuni paesi come la Cina sono divisi in diverse province, quindi la stessa tecnica non dà il risultato desiderato."
   ]
  },
  {
   "cell_type": "code",
   "execution_count": null,
   "metadata": {},
   "outputs": [],
   "source": [
    "paese = 'China'\n",
    "confermati_paese = confermati_mondo.loc[paese]\n",
    "confermati_paese"
   ]
  },
  {
   "cell_type": "markdown",
   "metadata": {},
   "source": [
    "Per ottenere il valore di tutta la Cina, dobbiamo sommare le varie righe tra di loro. Questo viene fatto con la funzione ```sum```"
   ]
  },
  {
   "cell_type": "code",
   "execution_count": null,
   "metadata": {},
   "outputs": [],
   "source": [
    "paese = 'China'\n",
    "confermati_paese = confermati_mondo.loc[paese].sum()\n",
    "confermati_paese"
   ]
  },
  {
   "cell_type": "markdown",
   "metadata": {},
   "source": [
    "Come vedete, otteniamo un risultato simile al precedente."
   ]
  },
  {
   "cell_type": "markdown",
   "metadata": {},
   "source": [
    "Possiamo già fare una prima visualizzazione di questi dati, semplicemente riportando su una linea l'andamento temporale dei casi confermati. Qua sotto mettiamo insieme i comandi precedenti. Modificando il valore della variabile ```paese``` possiamo ottenere grafici diversi."
   ]
  },
  {
   "cell_type": "code",
   "execution_count": null,
   "metadata": {},
   "outputs": [],
   "source": [
    "paese = 'China'\n",
    "confermati_paese = confermati_mondo.loc[paese]\n",
    "\n",
    "# per avere una implementazione generale, controlliamo se i dati riportati sono una lista o una tabella\n",
    "if len(confermati_paese.shape) == 2:\n",
    "    confermati_paese = confermati_paese.sum()\n",
    "\n",
    "confermati_paese\n",
    "plt.plot(confermati_paese)"
   ]
  },
  {
   "cell_type": "markdown",
   "metadata": {},
   "source": [
    "Per rendere il risultato più generale, definiamo una funzione che ci permetta di evitare di scrivere ogni volta la sequenza di comandi precedente."
   ]
  },
  {
   "cell_type": "code",
   "execution_count": null,
   "metadata": {},
   "outputs": [],
   "source": [
    "def dati_paese(dati, paese):\n",
    "    dati_uscita = dati.loc[paese]\n",
    "    if len(dati_uscita.shape) == 2:\n",
    "        dati_uscita = dati_uscita.sum()\n",
    "    return dati_uscita"
   ]
  },
  {
   "cell_type": "markdown",
   "metadata": {},
   "source": [
    "Così possiamo estrarre i dati per il paese che ci interessa utilizzando la funzione:"
   ]
  },
  {
   "cell_type": "code",
   "execution_count": null,
   "metadata": {},
   "outputs": [],
   "source": [
    "confermati_italia = dati_paese(confermati_mondo, 'Italy')\n",
    "confermati_cina = dati_paese(confermati_mondo, 'China')\n",
    "\n",
    "plt.plot(confermati_italia, label='Italia')\n",
    "plt.plot(confermati_cina, label='Cina')\n",
    "plt.legend()"
   ]
  },
  {
   "cell_type": "markdown",
   "metadata": {},
   "source": [
    "### Altri dati: morti e guarigioni\n",
    "\n",
    "Possiamo adesso caricare i dati anche delle morti e delle guarigioni:"
   ]
  },
  {
   "cell_type": "code",
   "execution_count": null,
   "metadata": {},
   "outputs": [],
   "source": [
    "morti_mondo = pd.read_csv(mondo_URL_base + file_morti, index_col = 'Country/Region').sort_index().drop(columns = ['Province/State', 'Lat', 'Long'])\n",
    "guariti_mondo = pd.read_csv(mondo_URL_base + file_guariti, index_col = 'Country/Region').sort_index().drop(columns = ['Province/State', 'Lat', 'Long'])"
   ]
  },
  {
   "cell_type": "markdown",
   "metadata": {},
   "source": [
    "Possiamo usare la funzione dati_paese definita prima anche per estrarre i dati da queste nuove tabelle"
   ]
  },
  {
   "cell_type": "code",
   "execution_count": null,
   "metadata": {},
   "outputs": [],
   "source": [
    "morti_italia = dati_paese(morti_mondo, 'Italy')\n",
    "morti_cina = dati_paese(morti_mondo, 'China')\n",
    "\n",
    "guariti_italia = dati_paese(guariti_mondo, 'Italy')\n",
    "guariti_cina = dati_paese(guariti_mondo, 'China')"
   ]
  },
  {
   "cell_type": "markdown",
   "metadata": {},
   "source": [
    "Visualizziamo adesso i confermati, i morti e i guariti."
   ]
  },
  {
   "cell_type": "code",
   "execution_count": null,
   "metadata": {},
   "outputs": [],
   "source": [
    "plt.plot(confermati_italia, 'b', label='Confermati')\n",
    "plt.plot(morti_italia, 'r', label='Morti')\n",
    "plt.plot(guariti_italia, 'g', label='Guariti')\n",
    "plt.legend()"
   ]
  },
  {
   "cell_type": "code",
   "execution_count": null,
   "metadata": {},
   "outputs": [],
   "source": [
    "plt.plot(confermati_cina, 'b', label='Confermati')\n",
    "plt.plot(morti_cina, 'r', label='Morti')\n",
    "plt.plot(guariti_cina, 'g', label='Guariti')\n",
    "plt.legend()"
   ]
  },
  {
   "cell_type": "markdown",
   "metadata": {},
   "source": [
    "## Dati nazionali italiani\n",
    "\n",
    "I dati nazionali italiani si trovano sul repository github della protezione civile: https://github.com/pcm-dpc/COVID-19\n",
    "\n",
    "Nel nostro caso ci interessano i dati per regione. Il formato di questi dati è diverso dal formato di Johns Hopkins, visto che abbiamo un file CSV per ogni giorno con tutte le regioni e tutti i dati (confermati, morti, guarigioni) insieme.\n",
    "\n",
    "Il nome di questi file è del tipo  ```dpc-covid19-ita-regioni-XXXXXXXX.csv``` dove le XX rappresentano una data. Per leggere tutti i file useremo un ciclo while e le funzioni datetime e timedelta di python."
   ]
  },
  {
   "cell_type": "code",
   "execution_count": null,
   "metadata": {},
   "outputs": [],
   "source": [
    "import datetime\n",
    "\n",
    "italia_URL_base = 'https://raw.githubusercontent.com/pcm-dpc/COVID-19/master/dati-regioni/'\n",
    "formato_file_gioraliero = 'dpc-covid19-ita-regioni-%Y%m%d.csv'\n",
    "\n",
    "data_inizio = datetime.date(2020,2,24) # inizio il 24 febbraio 2020\n",
    "\n",
    "lista_dati = []\n",
    "\n",
    "data_corrente = data_inizio\n",
    "while data_corrente < datetime.date.today():\n",
    "    file = data_corrente.strftime(formato_file_gioraliero)\n",
    "    print(f'Lettura di {file}')\n",
    "    lista_dati.append(pd.read_csv(italia_URL_base + file, index_col=['denominazione_regione', 'data']).sort_index())\n",
    "    data_corrente += datetime.timedelta(days=1) # aggiunge un giorno alla data considerata\n",
    "    \n",
    "dati_italia_per_regione = pd.concat(lista_dati) # Aggrega i dati\n",
    "print('Fatto')"
   ]
  },
  {
   "cell_type": "markdown",
   "metadata": {},
   "source": [
    "Visualizziamo ora i dati aggregati."
   ]
  },
  {
   "cell_type": "code",
   "execution_count": null,
   "metadata": {},
   "outputs": [],
   "source": [
    "dati_italia_per_regione"
   ]
  },
  {
   "cell_type": "markdown",
   "metadata": {},
   "source": [
    "Definiamo ora una funzione per ottenere dati simili a come ottenevamo con il dataset di prima."
   ]
  },
  {
   "cell_type": "code",
   "execution_count": null,
   "metadata": {},
   "outputs": [],
   "source": [
    "def dati_regione(regione):\n",
    "    confermati = dati_italia_per_regione.loc[regione]['totale_casi'] # seleziona le righe \"Regione\" e la colonna \"totale_casi\"\n",
    "    guariti = dati_italia_per_regione.loc[regione]['dimessi_guariti']\n",
    "    morti = dati_italia_per_regione.loc[regione]['deceduti']\n",
    "    return confermati, guariti, morti"
   ]
  },
  {
   "cell_type": "markdown",
   "metadata": {},
   "source": [
    "Visualizziamo ora i dati per tre regioni italiane."
   ]
  },
  {
   "cell_type": "code",
   "execution_count": null,
   "metadata": {},
   "outputs": [],
   "source": [
    "confermati_puglia, guariti_puglia, morti_puglia = dati_regione('Puglia')\n",
    "confermati_toscana, guariti_toscana, morti_toscana = dati_regione('Toscana')\n",
    "confermati_lombardia, guariti_lombardia, morti_lombardia = dati_regione('Lombardia')\n",
    "\n",
    "plt.plot(confermati_puglia, label='Puglia')\n",
    "plt.plot(confermati_toscana, label='Toscana')\n",
    "plt.plot(confermati_lombardia, label='Lombardia')\n",
    "plt.legend()\n"
   ]
  },
  {
   "cell_type": "markdown",
   "metadata": {},
   "source": [
    "# Cosa abbiamo imparato\n",
    "\n",
    "* Struttura dei file CSV\n",
    "* Leggere i file CSV con pandas\n",
    "* Manipolare le tabelle di pandas (ordinare i dati, rimuovere colonne con ```drop```)\n",
    "* Estrarre dati da una tabella con ```loc[]```\n",
    "* Visualizzare i dati con ```plt.plot()```\n",
    "* Leggere dati da file multiple in maniera automatizzata\n",
    "* Aggregare varie tabelle di dati\n",
    "\n",
    "# La prossima settimana\n",
    "\n",
    "* Manipolazione dei dati (calcolo delle variazioni)\n",
    "* Visualizzazioni avanzate (scala logaritmica, diagrammi a barre, altre rappresentazioni)"
   ]
  },
  {
   "cell_type": "markdown",
   "metadata": {},
   "source": [
    "# Autore\n",
    "\n",
    "Copyright Francesco Santini <francesco.santini@gmail.com> 2020 - Rilasciato sotto GNU General Public License v3.0 o successive"
   ]
  }
 ],
 "metadata": {
  "kernelspec": {
   "display_name": "Python 3",
   "language": "python",
   "name": "python3"
  },
  "language_info": {
   "codemirror_mode": {
    "name": "ipython",
    "version": 3
   },
   "file_extension": ".py",
   "mimetype": "text/x-python",
   "name": "python",
   "nbconvert_exporter": "python",
   "pygments_lexer": "ipython3",
   "version": "3.8.2"
  }
 },
 "nbformat": 4,
 "nbformat_minor": 4
}
